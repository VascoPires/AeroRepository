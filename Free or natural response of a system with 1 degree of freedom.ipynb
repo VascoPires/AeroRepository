{
 "cells": [
  {
   "cell_type": "markdown",
   "metadata": {},
   "source": [
    "# Free or natural response of a 1 DOF system"
   ]
  },
  {
   "cell_type": "markdown",
   "metadata": {},
   "source": [
    "Author: Vasco Pires, FEUP, 2021\n",
    "\n",
    "Computes the free or natural response of system with 1 DOF knowing the mechanical properties and initial conditions of said system. This script also shows at the end a graphical representation of the response."
   ]
  },
  {
   "cell_type": "code",
   "execution_count": null,
   "metadata": {},
   "outputs": [],
   "source": [
    "import sympy\n",
    "from sympy import *\n",
    "sympy.init_printing(latex)"
   ]
  },
  {
   "cell_type": "markdown",
   "metadata": {},
   "source": [
    "Symbols and Vars:"
   ]
  },
  {
   "cell_type": "code",
   "execution_count": null,
   "metadata": {},
   "outputs": [],
   "source": [
    "x,t,xi,wd,wn,keq,meq,ceq, A, phi, x0, x0_dot, A1, A2 = symbols(\"x t xi w_d w_n keq meq ceq A phi x_0 xdot_0 A_1 A_2\")"
   ]
  },
  {
   "cell_type": "markdown",
   "metadata": {},
   "source": [
    "# Inputs:"
   ]
  },
  {
   "cell_type": "markdown",
   "metadata": {},
   "source": [
    "Mechanical properties:"
   ]
  },
  {
   "cell_type": "code",
   "execution_count": null,
   "metadata": {},
   "outputs": [],
   "source": [
    "meq=float(input())"
   ]
  },
  {
   "cell_type": "code",
   "execution_count": null,
   "metadata": {},
   "outputs": [],
   "source": [
    "keq=float(input())"
   ]
  },
  {
   "cell_type": "code",
   "execution_count": null,
   "metadata": {},
   "outputs": [],
   "source": [
    "ceq=float(input())"
   ]
  },
  {
   "cell_type": "markdown",
   "metadata": {},
   "source": [
    "Initial Conditions (position and velocity)"
   ]
  },
  {
   "cell_type": "code",
   "execution_count": null,
   "metadata": {},
   "outputs": [],
   "source": [
    "x0=float(input())"
   ]
  },
  {
   "cell_type": "code",
   "execution_count": null,
   "metadata": {},
   "outputs": [],
   "source": [
    "x0_dot=float(input())"
   ]
  },
  {
   "cell_type": "markdown",
   "metadata": {},
   "source": [
    "# Mathematical formulation:"
   ]
  },
  {
   "cell_type": "markdown",
   "metadata": {},
   "source": [
    "Considering the general differencial equation of motion for a 1 DOF system:\n",
    "$ m_{eq} \\ddot x(t) + c{eq}\\dot x(t) + k_{eq}x(t) = F(t)$"
   ]
  },
  {
   "cell_type": "markdown",
   "metadata": {},
   "source": [
    "In the case of a free or natural response, the equation above can be rewritten: $ \\ddot x(t) + 2\\xi w_n\\dot x(t) + w_n ^2 x(t) = 0$"
   ]
  },
  {
   "cell_type": "markdown",
   "metadata": {},
   "source": [
    "Whre $\\xi$ is the damping coefficient and $w_n$ is the system's natural frequency, which can be calculated:"
   ]
  },
  {
   "cell_type": "code",
   "execution_count": null,
   "metadata": {},
   "outputs": [],
   "source": [
    "wn = sqrt(keq/meq)\n",
    "xi = ceq/(2*meq*wn)\n"
   ]
  },
  {
   "cell_type": "markdown",
   "metadata": {},
   "source": [
    "$ w_n= \\sqrt{\\frac{k_{eq}}{m_{eq}}} $    ;   $ \\xi = \\frac{c_{eq}}{2m_{eq}w_n} $"
   ]
  },
  {
   "cell_type": "markdown",
   "metadata": {},
   "source": [
    "The system's damped frequency ($ w_d $) is also a important parameter for the final solution."
   ]
  },
  {
   "cell_type": "code",
   "execution_count": null,
   "metadata": {},
   "outputs": [],
   "source": [
    "wd = wn*sqrt(1-xi**2)"
   ]
  },
  {
   "cell_type": "markdown",
   "metadata": {},
   "source": [
    "$ w_d = w_n \\sqrt{1-\\xi^2} $"
   ]
  },
  {
   "cell_type": "markdown",
   "metadata": {},
   "source": [
    "The roots of the second order homogeneous differential equation above can be complex or real depending of $\\xi$ value."
   ]
  },
  {
   "cell_type": "markdown",
   "metadata": {},
   "source": [
    "# $\\xi = 0$: Unampeded System "
   ]
  },
  {
   "cell_type": "code",
   "execution_count": null,
   "metadata": {},
   "outputs": [],
   "source": [
    "if xi == 0:\n",
    "    A = sqrt(x0**2+(x0_dot/wn)**2)\n",
    "    phi = atan(x0_dot/(x0*wn))\n",
    "    x = A*cos(wn*t-phi)"
   ]
  },
  {
   "cell_type": "markdown",
   "metadata": {},
   "source": [
    "If $\\xi = 0$ then the solution takes the form of the following expression: $ x(t)=Acos(w_nt-\\phi) $"
   ]
  },
  {
   "cell_type": "markdown",
   "metadata": {},
   "source": [
    "Where: $ A = \\sqrt{x_0^2+(\\frac{\\dot x_0}{w_n})^2} $ and $ \\phi = \\tan^{-1}(\\frac{\\dot x_0}{x_0w_n}) $"
   ]
  },
  {
   "cell_type": "markdown",
   "metadata": {},
   "source": [
    "# 0 < $ \\xi $ < 1 : Damped System"
   ]
  },
  {
   "cell_type": "code",
   "execution_count": null,
   "metadata": {},
   "outputs": [],
   "source": [
    "if xi > 0 and xi < 1:\n",
    "    A = sqrt(((x0_dot+xi*wn*x0)/(wn*sqrt(1-xi**2)))**2+x0**2)\n",
    "    phi = atan((x0_dot+xi*wn*x0)/(wn*sqrt(1-xi**2)*x0))\n",
    "    x = A*exp(-xi*wn*t)*cos(wn*t-phi)"
   ]
  },
  {
   "cell_type": "markdown",
   "metadata": {},
   "source": [
    "If $ 0<\\xi<1$ then the solution takes the form of the following expression: $ x(t)=Ae^{-\\xi w_nt}\\cos(w_dt-\\phi) $"
   ]
  },
  {
   "cell_type": "markdown",
   "metadata": {},
   "source": [
    "Where: $ A= \\sqrt{\\Big(\\frac{\\dot x_0+ \\xi w_n x_0}{w_n\\sqrt{1-\\xi ^2}}\\Big)^2+x_0^2} $ and $ \\phi = \\tan^{-1}\\bigg(\\frac{\\dot x_0 + \\xi w_n x_0}{w_n\\sqrt{1-\\xi ^2}x_0}\\bigg) $"
   ]
  },
  {
   "cell_type": "markdown",
   "metadata": {},
   "source": [
    "# $ \\xi =1 $ : Critically Damped System"
   ]
  },
  {
   "cell_type": "code",
   "execution_count": null,
   "metadata": {},
   "outputs": [],
   "source": [
    "if xi == 1:\n",
    "    x = (x0+(x0_dot+wn*x0)*t)*exp(-wn*t)"
   ]
  },
  {
   "cell_type": "markdown",
   "metadata": {},
   "source": [
    "If $ \\xi =1 $ then the solution takes the form of: $ x(t)= (x_0 + (\\dot x_0 + w_n x_0)t)e^{-w_nt} $"
   ]
  },
  {
   "cell_type": "markdown",
   "metadata": {},
   "source": [
    "# $ \\xi>1 $  : Overdamped System"
   ]
  },
  {
   "cell_type": "code",
   "execution_count": null,
   "metadata": {},
   "outputs": [],
   "source": [
    "if xi > 1:\n",
    "    A1 = x0\n",
    "    A2 = (xi*wn*x0 + x0_dot)/(wn*sqrt(xi**2-1))\n",
    "    \n",
    "    x = exp(-xi*wn*t)*(A1*cosh(wn*t*sqrt(xi**2-1))+A2*sinh(wn*t*sqrt(xi**2-1)))"
   ]
  },
  {
   "cell_type": "markdown",
   "metadata": {},
   "source": [
    "If $ \\xi > 1 $ then the solution takes the form of: $ x(t)=e^{-\\xi w_nt}[A_1 cosh(w_n \\sqrt{\\xi^2-1}t) + A_2 sinh(w_n \\sqrt{\\xi ^2 -1}t)] $"
   ]
  },
  {
   "cell_type": "markdown",
   "metadata": {},
   "source": [
    "Where $ A_1 = x_0 $ and $ A_2 = \\frac{\\xi w_n x_0 + \\dot x_0}{w_n \\sqrt{\\xi^2-1}} $ "
   ]
  },
  {
   "cell_type": "code",
   "execution_count": null,
   "metadata": {},
   "outputs": [],
   "source": [
    "%matplotlib inline\n",
    "import matplotlib.pyplot as plt\n",
    "\n",
    "from sympy import symbols\n",
    "from sympy.plotting import plot\n",
    "\n",
    "\n",
    "if xi==0 or xi>=1: p = plot(x, (t, 0, 0.6))\n",
    "\n",
    "if xi>0 and xi<1: \n",
    "    \n",
    "    env = A*exp(-xi*wn*t)\n",
    "    p = plot(x,env,env*(-1), (t,0,0.6))\n",
    "    \n"
   ]
  },
  {
   "cell_type": "code",
   "execution_count": null,
   "metadata": {},
   "outputs": [],
   "source": [
    "x"
   ]
  },
  {
   "cell_type": "code",
   "execution_count": null,
   "metadata": {},
   "outputs": [],
   "source": [
    "wd"
   ]
  },
  {
   "cell_type": "code",
   "execution_count": null,
   "metadata": {},
   "outputs": [],
   "source": [
    "wn"
   ]
  },
  {
   "cell_type": "code",
   "execution_count": null,
   "metadata": {},
   "outputs": [],
   "source": [
    "phi"
   ]
  },
  {
   "cell_type": "code",
   "execution_count": null,
   "metadata": {},
   "outputs": [],
   "source": [
    "xi"
   ]
  },
  {
   "cell_type": "code",
   "execution_count": null,
   "metadata": {},
   "outputs": [],
   "source": []
  }
 ],
 "metadata": {
  "kernelspec": {
   "display_name": "Python 3",
   "language": "python",
   "name": "python3"
  },
  "language_info": {
   "codemirror_mode": {
    "name": "ipython",
    "version": 3
   },
   "file_extension": ".py",
   "mimetype": "text/x-python",
   "name": "python",
   "nbconvert_exporter": "python",
   "pygments_lexer": "ipython3",
   "version": "3.8.5"
  }
 },
 "nbformat": 4,
 "nbformat_minor": 4
}
